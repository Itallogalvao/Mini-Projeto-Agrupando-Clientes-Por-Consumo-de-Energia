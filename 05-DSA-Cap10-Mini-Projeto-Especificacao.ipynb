{
 "cells": [
  {
   "cell_type": "markdown",
   "metadata": {},
   "source": [
    "# <font color='blue'>Data Science Academy - Machine Learning</font>\n",
    "\n",
    "# <font color='blue'>Capítulo 10 - Mini-Projeto - Agrupando Clientes Por Consumo de Energia</font>\n",
    "\n",
    "### Especificação"
   ]
  },
  {
   "cell_type": "markdown",
   "metadata": {},
   "source": [
    "A partir de dados de consumo de energia de clientes, nosso trabalho é agrupar os consumidores por similaridade a afim de compreender o comportamento dos clientes e sua relação com o consumo de energia."
   ]
  },
  {
   "cell_type": "markdown",
   "metadata": {},
   "source": [
    "Você deve executar as seguintes tarefas:\n",
    "    \n",
    "1- Tratar os valores ausentes nos dados.\n",
    "\n",
    "2- Coletar uma amostra de 1% dos dados para criar o modelo de clusterização com o K-Means.\n",
    "\n",
    "3- Encontrar o melhor valor de K para esse conjunto de dados.\n",
    "\n",
    "4- Criar o modelo K-Means usando o valor de K encontrado no item 3.\n",
    "\n",
    "5- Criar um Meshgrid para visualização de todos os clusters.\n",
    "\n",
    "6- Visualizar os centróides.\n",
    "\n",
    "7- Calcular o Silhoutte Score.\n",
    "\n",
    "8 - Calcular a média de consumo de energia por cluster (usar a coluna Global_active_power para o cálculo da média).\n",
    "\n",
    "Dica: Para o item 8, considere a amostra criada no item 2."
   ]
  },
  {
   "cell_type": "code",
   "execution_count": 1,
   "metadata": {},
   "outputs": [],
   "source": [
    "# Imports\n",
    "import pandas as pd\n",
    "import numpy as np\n",
    "import matplotlib.pyplot as plt\n",
    "from matplotlib import pylab\n",
    "from sklearn.cluster import KMeans\n",
    "from sklearn.decomposition import PCA\n",
    "from sklearn.metrics import silhouette_score\n",
    "import warnings\n",
    "warnings.filterwarnings(\"ignore\")\n",
    "%matplotlib inline"
   ]
  },
  {
   "cell_type": "markdown",
   "metadata": {},
   "source": [
    "https://archive.ics.uci.edu/ml/datasets/Individual+household+electric+power+consumption"
   ]
  },
  {
   "cell_type": "code",
   "execution_count": 2,
   "metadata": {},
   "outputs": [],
   "source": [
    "# Carregando os dados\n",
    "dataset = pd.read_csv('dados/household_power_consumption.txt', delimiter = ';', low_memory = False)"
   ]
  },
  {
   "cell_type": "code",
   "execution_count": 3,
   "metadata": {},
   "outputs": [
    {
     "data": {
      "text/html": [
       "<div>\n",
       "<style scoped>\n",
       "    .dataframe tbody tr th:only-of-type {\n",
       "        vertical-align: middle;\n",
       "    }\n",
       "\n",
       "    .dataframe tbody tr th {\n",
       "        vertical-align: top;\n",
       "    }\n",
       "\n",
       "    .dataframe thead th {\n",
       "        text-align: right;\n",
       "    }\n",
       "</style>\n",
       "<table border=\"1\" class=\"dataframe\">\n",
       "  <thead>\n",
       "    <tr style=\"text-align: right;\">\n",
       "      <th></th>\n",
       "      <th>Date</th>\n",
       "      <th>Time</th>\n",
       "      <th>Global_active_power</th>\n",
       "      <th>Global_reactive_power</th>\n",
       "      <th>Voltage</th>\n",
       "      <th>Global_intensity</th>\n",
       "      <th>Sub_metering_1</th>\n",
       "      <th>Sub_metering_2</th>\n",
       "      <th>Sub_metering_3</th>\n",
       "    </tr>\n",
       "  </thead>\n",
       "  <tbody>\n",
       "    <tr>\n",
       "      <th>0</th>\n",
       "      <td>16/12/2006</td>\n",
       "      <td>17:24:00</td>\n",
       "      <td>4.216</td>\n",
       "      <td>0.418</td>\n",
       "      <td>234.840</td>\n",
       "      <td>18.400</td>\n",
       "      <td>0.000</td>\n",
       "      <td>1.000</td>\n",
       "      <td>17.0</td>\n",
       "    </tr>\n",
       "    <tr>\n",
       "      <th>1</th>\n",
       "      <td>16/12/2006</td>\n",
       "      <td>17:25:00</td>\n",
       "      <td>5.360</td>\n",
       "      <td>0.436</td>\n",
       "      <td>233.630</td>\n",
       "      <td>23.000</td>\n",
       "      <td>0.000</td>\n",
       "      <td>1.000</td>\n",
       "      <td>16.0</td>\n",
       "    </tr>\n",
       "    <tr>\n",
       "      <th>2</th>\n",
       "      <td>16/12/2006</td>\n",
       "      <td>17:26:00</td>\n",
       "      <td>5.374</td>\n",
       "      <td>0.498</td>\n",
       "      <td>233.290</td>\n",
       "      <td>23.000</td>\n",
       "      <td>0.000</td>\n",
       "      <td>2.000</td>\n",
       "      <td>17.0</td>\n",
       "    </tr>\n",
       "    <tr>\n",
       "      <th>3</th>\n",
       "      <td>16/12/2006</td>\n",
       "      <td>17:27:00</td>\n",
       "      <td>5.388</td>\n",
       "      <td>0.502</td>\n",
       "      <td>233.740</td>\n",
       "      <td>23.000</td>\n",
       "      <td>0.000</td>\n",
       "      <td>1.000</td>\n",
       "      <td>17.0</td>\n",
       "    </tr>\n",
       "    <tr>\n",
       "      <th>4</th>\n",
       "      <td>16/12/2006</td>\n",
       "      <td>17:28:00</td>\n",
       "      <td>3.666</td>\n",
       "      <td>0.528</td>\n",
       "      <td>235.680</td>\n",
       "      <td>15.800</td>\n",
       "      <td>0.000</td>\n",
       "      <td>1.000</td>\n",
       "      <td>17.0</td>\n",
       "    </tr>\n",
       "    <tr>\n",
       "      <th>...</th>\n",
       "      <td>...</td>\n",
       "      <td>...</td>\n",
       "      <td>...</td>\n",
       "      <td>...</td>\n",
       "      <td>...</td>\n",
       "      <td>...</td>\n",
       "      <td>...</td>\n",
       "      <td>...</td>\n",
       "      <td>...</td>\n",
       "    </tr>\n",
       "    <tr>\n",
       "      <th>2075249</th>\n",
       "      <td>26/11/2010</td>\n",
       "      <td>20:53:00</td>\n",
       "      <td>0.944</td>\n",
       "      <td>0.000</td>\n",
       "      <td>238.720</td>\n",
       "      <td>4.000</td>\n",
       "      <td>0.000</td>\n",
       "      <td>0.000</td>\n",
       "      <td>0.0</td>\n",
       "    </tr>\n",
       "    <tr>\n",
       "      <th>2075250</th>\n",
       "      <td>26/11/2010</td>\n",
       "      <td>20:54:00</td>\n",
       "      <td>0.946</td>\n",
       "      <td>0.000</td>\n",
       "      <td>239.310</td>\n",
       "      <td>4.000</td>\n",
       "      <td>0.000</td>\n",
       "      <td>0.000</td>\n",
       "      <td>0.0</td>\n",
       "    </tr>\n",
       "    <tr>\n",
       "      <th>2075251</th>\n",
       "      <td>26/11/2010</td>\n",
       "      <td>20:55:00</td>\n",
       "      <td>0.946</td>\n",
       "      <td>0.000</td>\n",
       "      <td>239.740</td>\n",
       "      <td>4.000</td>\n",
       "      <td>0.000</td>\n",
       "      <td>0.000</td>\n",
       "      <td>0.0</td>\n",
       "    </tr>\n",
       "    <tr>\n",
       "      <th>2075252</th>\n",
       "      <td>26/11/2010</td>\n",
       "      <td>20:56:00</td>\n",
       "      <td>0.942</td>\n",
       "      <td>0.000</td>\n",
       "      <td>239.410</td>\n",
       "      <td>4.000</td>\n",
       "      <td>0.000</td>\n",
       "      <td>0.000</td>\n",
       "      <td>0.0</td>\n",
       "    </tr>\n",
       "    <tr>\n",
       "      <th>2075253</th>\n",
       "      <td>26/11/2010</td>\n",
       "      <td>20:57:00</td>\n",
       "      <td>0.946</td>\n",
       "      <td>0.000</td>\n",
       "      <td>240.330</td>\n",
       "      <td>4.000</td>\n",
       "      <td>0.000</td>\n",
       "      <td>0.000</td>\n",
       "      <td>0.0</td>\n",
       "    </tr>\n",
       "  </tbody>\n",
       "</table>\n",
       "<p>2075254 rows × 9 columns</p>\n",
       "</div>"
      ],
      "text/plain": [
       "               Date      Time Global_active_power Global_reactive_power  \\\n",
       "0        16/12/2006  17:24:00               4.216                 0.418   \n",
       "1        16/12/2006  17:25:00               5.360                 0.436   \n",
       "2        16/12/2006  17:26:00               5.374                 0.498   \n",
       "3        16/12/2006  17:27:00               5.388                 0.502   \n",
       "4        16/12/2006  17:28:00               3.666                 0.528   \n",
       "...             ...       ...                 ...                   ...   \n",
       "2075249  26/11/2010  20:53:00               0.944                 0.000   \n",
       "2075250  26/11/2010  20:54:00               0.946                 0.000   \n",
       "2075251  26/11/2010  20:55:00               0.946                 0.000   \n",
       "2075252  26/11/2010  20:56:00               0.942                 0.000   \n",
       "2075253  26/11/2010  20:57:00               0.946                 0.000   \n",
       "\n",
       "         Voltage Global_intensity Sub_metering_1 Sub_metering_2  \\\n",
       "0        234.840           18.400          0.000          1.000   \n",
       "1        233.630           23.000          0.000          1.000   \n",
       "2        233.290           23.000          0.000          2.000   \n",
       "3        233.740           23.000          0.000          1.000   \n",
       "4        235.680           15.800          0.000          1.000   \n",
       "...          ...              ...            ...            ...   \n",
       "2075249  238.720            4.000          0.000          0.000   \n",
       "2075250  239.310            4.000          0.000          0.000   \n",
       "2075251  239.740            4.000          0.000          0.000   \n",
       "2075252  239.410            4.000          0.000          0.000   \n",
       "2075253  240.330            4.000          0.000          0.000   \n",
       "\n",
       "         Sub_metering_3  \n",
       "0                  17.0  \n",
       "1                  16.0  \n",
       "2                  17.0  \n",
       "3                  17.0  \n",
       "4                  17.0  \n",
       "...                 ...  \n",
       "2075249             0.0  \n",
       "2075250             0.0  \n",
       "2075251             0.0  \n",
       "2075252             0.0  \n",
       "2075253             0.0  \n",
       "\n",
       "[2075254 rows x 9 columns]"
      ]
     },
     "execution_count": 3,
     "metadata": {},
     "output_type": "execute_result"
    }
   ],
   "source": [
    "dataset.head(-5)"
   ]
  },
  {
   "cell_type": "code",
   "execution_count": 4,
   "metadata": {},
   "outputs": [
    {
     "name": "stdout",
     "output_type": "stream",
     "text": [
      "<class 'pandas.core.frame.DataFrame'>\n",
      "Int64Index: 2049280 entries, 0 to 2075258\n",
      "Data columns (total 9 columns):\n",
      " #   Column                 Dtype  \n",
      "---  ------                 -----  \n",
      " 0   Date                   object \n",
      " 1   Time                   object \n",
      " 2   Global_active_power    object \n",
      " 3   Global_reactive_power  object \n",
      " 4   Voltage                object \n",
      " 5   Global_intensity       object \n",
      " 6   Sub_metering_1         object \n",
      " 7   Sub_metering_2         object \n",
      " 8   Sub_metering_3         float64\n",
      "dtypes: float64(1), object(8)\n",
      "memory usage: 156.3+ MB\n"
     ]
    },
    {
     "data": {
      "text/plain": [
       "Date                     0\n",
       "Time                     0\n",
       "Global_active_power      0\n",
       "Global_reactive_power    0\n",
       "Voltage                  0\n",
       "Global_intensity         0\n",
       "Sub_metering_1           0\n",
       "Sub_metering_2           0\n",
       "Sub_metering_3           0\n",
       "dtype: int64"
      ]
     },
     "execution_count": 4,
     "metadata": {},
     "output_type": "execute_result"
    }
   ],
   "source": [
    "# 1- Tratar os valores ausentes nos dados.\n",
    "dataset.isnull().sum().sort_values(ascending=False)[:10]\n",
    "df_v1 = dataset.dropna(axis=0)\n",
    "df_v1.info()\n",
    "df_v1.isnull().sum().sort_values(ascending=False)[:10]"
   ]
  },
  {
   "cell_type": "code",
   "execution_count": 5,
   "metadata": {},
   "outputs": [
    {
     "name": "stdout",
     "output_type": "stream",
     "text": [
      "<class 'pandas.core.frame.DataFrame'>\n",
      "Int64Index: 20493 entries, 571762 to 1058823\n",
      "Data columns (total 9 columns):\n",
      " #   Column                 Non-Null Count  Dtype  \n",
      "---  ------                 --------------  -----  \n",
      " 0   Date                   20493 non-null  object \n",
      " 1   Time                   20493 non-null  object \n",
      " 2   Global_active_power    20493 non-null  object \n",
      " 3   Global_reactive_power  20493 non-null  object \n",
      " 4   Voltage                20493 non-null  object \n",
      " 5   Global_intensity       20493 non-null  object \n",
      " 6   Sub_metering_1         20493 non-null  object \n",
      " 7   Sub_metering_2         20493 non-null  object \n",
      " 8   Sub_metering_3         20493 non-null  float64\n",
      "dtypes: float64(1), object(8)\n",
      "memory usage: 1.6+ MB\n"
     ]
    }
   ],
   "source": [
    "# 2- Coletar uma amostra de 1% dos dados para criar o modelo de clusterização com o K-Means.\n",
    "df_v2 = df_v1.sample(frac=0.01,replace=True)\n",
    "df_v2.info()"
   ]
  },
  {
   "cell_type": "code",
   "execution_count": 6,
   "metadata": {},
   "outputs": [
    {
     "data": {
      "text/html": [
       "<div>\n",
       "<style scoped>\n",
       "    .dataframe tbody tr th:only-of-type {\n",
       "        vertical-align: middle;\n",
       "    }\n",
       "\n",
       "    .dataframe tbody tr th {\n",
       "        vertical-align: top;\n",
       "    }\n",
       "\n",
       "    .dataframe thead th {\n",
       "        text-align: right;\n",
       "    }\n",
       "</style>\n",
       "<table border=\"1\" class=\"dataframe\">\n",
       "  <thead>\n",
       "    <tr style=\"text-align: right;\">\n",
       "      <th></th>\n",
       "      <th>Global_active_power</th>\n",
       "      <th>Global_reactive_power</th>\n",
       "      <th>Voltage</th>\n",
       "      <th>Global_intensity</th>\n",
       "      <th>Sub_metering_1</th>\n",
       "      <th>Sub_metering_2</th>\n",
       "      <th>Sub_metering_3</th>\n",
       "    </tr>\n",
       "  </thead>\n",
       "  <tbody>\n",
       "    <tr>\n",
       "      <th>571762</th>\n",
       "      <td>1.840</td>\n",
       "      <td>0.212</td>\n",
       "      <td>237.040</td>\n",
       "      <td>7.800</td>\n",
       "      <td>0.000</td>\n",
       "      <td>0.000</td>\n",
       "      <td>0.0</td>\n",
       "    </tr>\n",
       "    <tr>\n",
       "      <th>475262</th>\n",
       "      <td>0.940</td>\n",
       "      <td>0.000</td>\n",
       "      <td>239.180</td>\n",
       "      <td>4.000</td>\n",
       "      <td>0.000</td>\n",
       "      <td>0.000</td>\n",
       "      <td>0.0</td>\n",
       "    </tr>\n",
       "    <tr>\n",
       "      <th>489193</th>\n",
       "      <td>2.216</td>\n",
       "      <td>0.000</td>\n",
       "      <td>239.200</td>\n",
       "      <td>9.200</td>\n",
       "      <td>0.000</td>\n",
       "      <td>0.000</td>\n",
       "      <td>18.0</td>\n",
       "    </tr>\n",
       "    <tr>\n",
       "      <th>1166954</th>\n",
       "      <td>0.384</td>\n",
       "      <td>0.058</td>\n",
       "      <td>246.020</td>\n",
       "      <td>1.600</td>\n",
       "      <td>0.000</td>\n",
       "      <td>0.000</td>\n",
       "      <td>0.0</td>\n",
       "    </tr>\n",
       "    <tr>\n",
       "      <th>668189</th>\n",
       "      <td>1.032</td>\n",
       "      <td>0.166</td>\n",
       "      <td>240.890</td>\n",
       "      <td>4.400</td>\n",
       "      <td>0.000</td>\n",
       "      <td>0.000</td>\n",
       "      <td>0.0</td>\n",
       "    </tr>\n",
       "    <tr>\n",
       "      <th>...</th>\n",
       "      <td>...</td>\n",
       "      <td>...</td>\n",
       "      <td>...</td>\n",
       "      <td>...</td>\n",
       "      <td>...</td>\n",
       "      <td>...</td>\n",
       "      <td>...</td>\n",
       "    </tr>\n",
       "    <tr>\n",
       "      <th>562434</th>\n",
       "      <td>0.554</td>\n",
       "      <td>0.118</td>\n",
       "      <td>237.720</td>\n",
       "      <td>2.400</td>\n",
       "      <td>0.000</td>\n",
       "      <td>0.000</td>\n",
       "      <td>0.0</td>\n",
       "    </tr>\n",
       "    <tr>\n",
       "      <th>45766</th>\n",
       "      <td>1.998</td>\n",
       "      <td>0.162</td>\n",
       "      <td>239.880</td>\n",
       "      <td>8.400</td>\n",
       "      <td>0.000</td>\n",
       "      <td>4.000</td>\n",
       "      <td>18.0</td>\n",
       "    </tr>\n",
       "    <tr>\n",
       "      <th>1514147</th>\n",
       "      <td>0.368</td>\n",
       "      <td>0.114</td>\n",
       "      <td>241.490</td>\n",
       "      <td>1.600</td>\n",
       "      <td>0.000</td>\n",
       "      <td>0.000</td>\n",
       "      <td>1.0</td>\n",
       "    </tr>\n",
       "    <tr>\n",
       "      <th>1207018</th>\n",
       "      <td>0.492</td>\n",
       "      <td>0.000</td>\n",
       "      <td>246.020</td>\n",
       "      <td>2.000</td>\n",
       "      <td>0.000</td>\n",
       "      <td>0.000</td>\n",
       "      <td>0.0</td>\n",
       "    </tr>\n",
       "    <tr>\n",
       "      <th>1058823</th>\n",
       "      <td>1.496</td>\n",
       "      <td>0.066</td>\n",
       "      <td>241.030</td>\n",
       "      <td>6.200</td>\n",
       "      <td>0.000</td>\n",
       "      <td>2.000</td>\n",
       "      <td>18.0</td>\n",
       "    </tr>\n",
       "  </tbody>\n",
       "</table>\n",
       "<p>20493 rows × 7 columns</p>\n",
       "</div>"
      ],
      "text/plain": [
       "        Global_active_power Global_reactive_power  Voltage Global_intensity  \\\n",
       "571762                1.840                 0.212  237.040            7.800   \n",
       "475262                0.940                 0.000  239.180            4.000   \n",
       "489193                2.216                 0.000  239.200            9.200   \n",
       "1166954               0.384                 0.058  246.020            1.600   \n",
       "668189                1.032                 0.166  240.890            4.400   \n",
       "...                     ...                   ...      ...              ...   \n",
       "562434                0.554                 0.118  237.720            2.400   \n",
       "45766                 1.998                 0.162  239.880            8.400   \n",
       "1514147               0.368                 0.114  241.490            1.600   \n",
       "1207018               0.492                 0.000  246.020            2.000   \n",
       "1058823               1.496                 0.066  241.030            6.200   \n",
       "\n",
       "        Sub_metering_1 Sub_metering_2  Sub_metering_3  \n",
       "571762           0.000          0.000             0.0  \n",
       "475262           0.000          0.000             0.0  \n",
       "489193           0.000          0.000            18.0  \n",
       "1166954          0.000          0.000             0.0  \n",
       "668189           0.000          0.000             0.0  \n",
       "...                ...            ...             ...  \n",
       "562434           0.000          0.000             0.0  \n",
       "45766            0.000          4.000            18.0  \n",
       "1514147          0.000          0.000             1.0  \n",
       "1207018          0.000          0.000             0.0  \n",
       "1058823          0.000          2.000            18.0  \n",
       "\n",
       "[20493 rows x 7 columns]"
      ]
     },
     "execution_count": 6,
     "metadata": {},
     "output_type": "execute_result"
    }
   ],
   "source": [
    "# Removendo as colunas Date, Time\n",
    "df_v2.head()\n",
    "df_v3 = df_v2.drop(columns=['Date','Time'])\n",
    "df_v3"
   ]
  },
  {
   "cell_type": "code",
   "execution_count": 7,
   "metadata": {},
   "outputs": [
    {
     "data": {
      "image/png": "[encoded data removed]",
      "text/plain": [
       "<Figure size 432x288 with 1 Axes>"
      ]
     },
     "metadata": {
      "needs_background": "light"
     },
     "output_type": "display_data"
    }
   ],
   "source": [
    "# 3- Encontrar o melhor valor de K para esse conjunto de dados.\n",
    "\n",
    "# Lista de valores de K\n",
    "Ks = range(2, 10)\n",
    "\n",
    "# Lista para as métricas\n",
    "valores_metrica = []\n",
    "\n",
    "# Loop por diferentes modelos com diferentes valores de K\n",
    "for K in Ks:\n",
    "    modelo = KMeans(n_clusters = K)\n",
    "    modelo.fit(df_v3)\n",
    "    valores_metrica.append(modelo.inertia_)\n",
    "\n",
    "plt.plot(Ks, valores_metrica, 'o-')\n",
    "plt.xlabel(\"Valor de K\")\n",
    "plt.ylabel(\"Inertia\")\n",
    "plt.show()"
   ]
  },
  {
   "cell_type": "code",
   "execution_count": 8,
   "metadata": {},
   "outputs": [
    {
     "data": {
      "text/plain": [
       "array([[-4.22247859,  2.52167177],\n",
       "       [-6.06119682,  1.20574717],\n",
       "       [11.666     , -4.72264969],\n",
       "       ...,\n",
       "       [-6.48061017, -0.13542129],\n",
       "       [-7.76789104, -0.06718876],\n",
       "       [10.55272615, -4.5325193 ]])"
      ]
     },
     "execution_count": 8,
     "metadata": {},
     "output_type": "execute_result"
    }
   ],
   "source": [
    "# Reduzindo a dimensionalidade\n",
    "pca = PCA(n_components = 2).fit(df_v3)\n",
    "pca_2d = pca.transform(df_v3)\n",
    "pca_2d"
   ]
  },
  {
   "cell_type": "code",
   "execution_count": 9,
   "metadata": {},
   "outputs": [
    {
     "data": {
      "text/plain": [
       "KMeans(n_clusters=4)"
      ]
     },
     "execution_count": 9,
     "metadata": {},
     "output_type": "execute_result"
    }
   ],
   "source": [
    "# 4- Criar o modelo K-Means usando o valor de K encontrado no item 3.\n",
    "modelo_v1 =KMeans(n_clusters=4)\n",
    "modelo_v1.fit(pca_2d)"
   ]
  },
  {
   "cell_type": "code",
   "execution_count": 10,
   "metadata": {},
   "outputs": [
    {
     "data": {
      "image/png": "[encoded data removed]",
      "text/plain": [
       "<Figure size 432x288 with 1 Axes>"
      ]
     },
     "metadata": {
      "needs_background": "light"
     },
     "output_type": "display_data"
    }
   ],
   "source": [
    "# 5- Criar um Meshgrid para visualização de todos os clusters.\n",
    "\n",
    "for n_iter in range(1, 5):\n",
    "\n",
    "    # Cria o classificador e constrói o modelo com os dados de entrada definidos nas células anteriores\n",
    "    modelo = KMeans(n_clusters = 4, max_iter = n_iter, n_init = 1, init = 'random', random_state = 101)\n",
    "    modelo.fit(pca_2d)\n",
    "    \n",
    "    # Plot\n",
    "    x_min, x_max = pca_2d[:, 0].min() - 5, pca_2d[:, 0].max() - 1\n",
    "    y_min, y_max = pca_2d[:, 1].min() + 1, pca_2d[:, 1].max() + 5\n",
    "    h = 0.02\n",
    "    xx, yy = np.meshgrid(np.arange(x_min, x_max, h), np.arange(y_min, y_max, h))\n",
    "    Z = modelo.predict(np.c_[xx.ravel(), yy.ravel()]).reshape(xx.shape)\n",
    "    plt.imshow(Z, \n",
    "               interpolation = 'nearest', \n",
    "               cmap = plt.cm.Accent,\n",
    "               extent = (xx.min(), xx.max(), yy.min(), yy.max()),\n",
    "               aspect = 'auto', \n",
    "               origin = 'lower')\n",
    "\n",
    "    # Inertia = Soma das distâncias das amostras para o seu centro de agrupamento mais próximo.\n",
    "    # Iteration = Número de iterações definido pelo parâmero n_iter definido acima\n",
    "    plt.scatter(pca_2d[:,0], pca_2d[:,1], c = modelo.labels_, edgecolors = 'none', alpha = 0.7)\n",
    "    plt.scatter(modelo.cluster_centers_[:,0],  modelo.cluster_centers_[:,1], marker = 'x', color = 'r', s = 100, linewidths = 4)\n",
    "    plt.title(\"iteration=%s, inertia=%s\" %(n_iter, int(modelo.inertia_)))\n",
    "\n",
    "plt.show()"
   ]
  },
  {
   "cell_type": "code",
   "execution_count": 11,
   "metadata": {},
   "outputs": [
    {
     "data": {
      "image/png": "[encoded data removed]",
      "text/plain": [
       "<Figure size 432x288 with 1 Axes>"
      ]
     },
     "metadata": {},
     "output_type": "display_data"
    }
   ],
   "source": [
    "# 6- Visualizar os centróides.\n",
    "plt.plot(pca_2d[:, 0], pca_2d[:, 1], 'k.', markersize = 4)\n",
    "centroids = modelo_v1.cluster_centers_\n",
    "inert = modelo_v1.inertia_\n",
    "plt.scatter(centroids[:, 0], centroids[:, 1], marker = 'x', s = 169, linewidths = 3, color = 'r', zorder = 8)\n",
    "plt.xlim(x_min, x_max)\n",
    "plt.ylim(y_min, y_max)\n",
    "plt.xticks(())\n",
    "plt.yticks(())\n",
    "plt.show()"
   ]
  },
  {
   "cell_type": "code",
   "execution_count": 15,
   "metadata": {},
   "outputs": [
    {
     "name": "stdout",
     "output_type": "stream",
     "text": [
      "Silhouetter Score: 0.861\n"
     ]
    }
   ],
   "source": [
    "# 7- Calcular o Silhoutte Score.\n",
    "\n",
    "score = silhouette_score(pca_2d, modelo_v1.labels_, metric='euclidean')\n",
    "\n",
    "print('Silhouetter Score: %.3f' % score)"
   ]
  },
  {
   "cell_type": "code",
   "execution_count": 13,
   "metadata": {},
   "outputs": [
    {
     "data": {
      "text/plain": [
       "cluster\n",
       "0    0.529938\n",
       "1    1.799038\n",
       "2    2.999954\n",
       "3    4.234398\n",
       "Name: Global_active_power, dtype: float64"
      ]
     },
     "execution_count": 13,
     "metadata": {},
     "output_type": "execute_result"
    }
   ],
   "source": [
    "# 8 - Calcular a média de consumo de energia por cluster (usar a coluna Global_active_power para o cálculo da média).\n",
    "cluster_map = pd.DataFrame(df_v3)\n",
    "cluster_map['Global_active_power'] = pd.to_numeric(cluster_map['Global_active_power'])\n",
    "cluster_map['cluster'] = modelo_v1.labels_\n",
    "cluster_map.groupby('cluster')['Global_active_power'].mean()"
   ]
  },
  {
   "cell_type": "markdown",
   "metadata": {},
   "source": [
    "### Fim"
   ]
  },
  {
   "cell_type": "markdown",
   "metadata": {},
   "source": [
    "### Obrigado - Data Science Academy - <a href=\"http://facebook.com/dsacademybr\">facebook.com/dsacademybr</a>"
   ]
  }
 ],
 "metadata": {
  "anaconda-cloud": {},
  "kernelspec": {
   "display_name": "Python 3 (ipykernel)",
   "language": "python",
   "name": "python3"
  },
  "language_info": {
   "codemirror_mode": {
    "name": "ipython",
    "version": 3
   },
   "file_extension": ".py",
   "mimetype": "text/x-python",
   "name": "python",
   "nbconvert_exporter": "python",
   "pygments_lexer": "ipython3",
   "version": "3.9.7"
  }
 },
 "nbformat": 4,
 "nbformat_minor": 4
}
